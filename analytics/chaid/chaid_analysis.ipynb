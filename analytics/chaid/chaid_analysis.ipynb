{
 "cells": [
  {
   "cell_type": "code",
   "execution_count": 1,
   "metadata": {},
   "outputs": [],
   "source": [
    "import pandas as pd\n",
    "import warnings\n",
    "warnings.filterwarnings(\"ignore\")"
   ]
  },
  {
   "cell_type": "code",
   "execution_count": 2,
   "metadata": {},
   "outputs": [],
   "source": [
    "from CHAID import Tree"
   ]
  },
  {
   "cell_type": "code",
   "execution_count": 44,
   "metadata": {},
   "outputs": [],
   "source": [
    "ap_ca_df = pd.read_csv('ap_ca_oct_2019.csv')"
   ]
  },
  {
   "cell_type": "code",
   "execution_count": 57,
   "metadata": {},
   "outputs": [],
   "source": [
    "ap_ca_df_slice = ap_ca_df"
   ]
  },
  {
   "cell_type": "code",
   "execution_count": 58,
   "metadata": {},
   "outputs": [],
   "source": [
    "good_bad_dict = {'GOOD':0, 'BAD':1}\n",
    "gender_dict = {'MALE' : 0, 'FEMALE': 1}\n",
    "ap_ca_df_slice.GOOD_BAD_FLAG_V2 = ap_ca_df_slice.GOOD_BAD_FLAG_V2.map(good_bad_dict)\n",
    "ap_ca_df_slice.GENDER = ap_ca_df_slice.GENDER.map(good_bad_dict)"
   ]
  },
  {
   "cell_type": "code",
   "execution_count": 59,
   "metadata": {},
   "outputs": [],
   "source": [
    "independed_vars = ap_ca_df_slice.columns.tolist()[:-1]"
   ]
  },
  {
   "cell_type": "code",
   "execution_count": 60,
   "metadata": {},
   "outputs": [],
   "source": [
    "dep_var = ap_ca_df_slice.columns.tolist()[-1]"
   ]
  },
  {
   "cell_type": "code",
   "execution_count": 71,
   "metadata": {},
   "outputs": [],
   "source": [
    "tree = Tree.from_pandas_df(ap_ca_df_slice, \n",
    "                           dict(zip(independed_vars,['nominal']*len(independed_vars))),\n",
    "                           dep_var,\n",
    "                           dep_variable_type='categorical',\n",
    "                          split_threshold=2)"
   ]
  },
  {
   "cell_type": "code",
   "execution_count": 72,
   "metadata": {},
   "outputs": [
    {
     "name": "stdout",
     "output_type": "stream",
     "text": [
      "([], {'<missing>': 11977.0}, <Invalid Chaid Split> - the node only contains single category respondents)\n",
      "\n"
     ]
    }
   ],
   "source": [
    "tree.print_tree()"
   ]
  },
  {
   "cell_type": "code",
   "execution_count": null,
   "metadata": {},
   "outputs": [],
   "source": []
  }
 ],
 "metadata": {
  "kernelspec": {
   "display_name": "Python 3",
   "language": "python",
   "name": "python3"
  },
  "language_info": {
   "codemirror_mode": {
    "name": "ipython",
    "version": 3
   },
   "file_extension": ".py",
   "mimetype": "text/x-python",
   "name": "python",
   "nbconvert_exporter": "python",
   "pygments_lexer": "ipython3",
   "version": "3.6.5"
  }
 },
 "nbformat": 4,
 "nbformat_minor": 2
}
